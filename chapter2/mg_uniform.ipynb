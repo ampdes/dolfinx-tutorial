{
 "cells": [
  {
   "cell_type": "markdown",
   "id": "64260796-5170-4083-921f-0d606eecd00a",
   "metadata": {},
   "source": [
    "# Geometric multigrid on (uniform refinement) hierarchy of meshes\n",
    "\n",
    "| Mesh                          |    operators    | true rhs | rhs | residual | approximate sol | exact solution to PDE |\n",
    "|-------------------------------|:---------------:|---------:|----:|---------:|----------------:|-----------------------|\n",
    "| $\\mathcal{T}_0 = 32\\times 32$ | $\\mathcal{A}_0$ |          |     |          |                 |                       |\n",
    "| $\\mathcal{T}_1 = 16\\times 16$ | $\\mathcal{A}_1$ |          |     |          |                 |                       |\n",
    "| $\\mathcal{T}_2 = 8\\times 8$   | $\\mathcal{A}_2$ |          |     |          |                 |                       |\n",
    "| $\\mathcal{T}_3 = 4\\times 4$   | $\\mathcal{A}_3$ |          |     |          |                 |                       |"
   ]
  },
  {
   "cell_type": "code",
   "execution_count": 1,
   "id": "f4991fbf-770a-4431-b3c6-4e94328fd486",
   "metadata": {},
   "outputs": [],
   "source": [
    "import sys\n",
    "stdout = sys.stdout\n",
    "\n",
    "import numpy as np\n",
    "\n",
    "from mpi4py import MPI\n",
    "from petsc4py import PETSc\n",
    "\n",
    "import ufl\n",
    "from basix.ufl import element\n",
    "from dolfinx.fem import Constant, Function, form, functionspace, assemble_scalar\n",
    "from dolfinx.fem.petsc import assemble_matrix, assemble_vector, create_vector\n",
    "\n",
    "from dolfinx.fem import create_nonmatching_meshes_interpolation_data\n",
    "\n",
    "from dolfinx.io import XDMFFile\n",
    "from dolfinx.mesh import CellType, create_rectangle\n",
    "from ufl import div, dx, grad, inner\n",
    "\n",
    "from dolfinx import plot\n",
    "\n",
    "import vtk\n",
    "import pyvista\n",
    "\n",
    "import logging"
   ]
  },
  {
   "cell_type": "code",
   "execution_count": 2,
   "id": "7c78eeaa-62f4-4c9d-b593-69c76dba094e",
   "metadata": {
    "scrolled": true
   },
   "outputs": [
    {
     "name": "stdout",
     "output_type": "stream",
     "text": [
      "panel\n"
     ]
    },
    {
     "name": "stderr",
     "output_type": "stream",
     "text": [
      "ERROR:ipykernel.comm:No such comm target registered: jupyter.widget.control\n",
      "WARNING:Comm:No such comm: ff715aae-002f-4770-b664-efe0071ee277\n"
     ]
    }
   ],
   "source": [
    "print(pyvista.global_theme.jupyter_backend)\n",
    "\n",
    "vtk_mathtext = vtk.vtkMathTextFreeTypeTextRenderer()\n",
    "print(vtk_mathtext.MathTextIsSupported())\n",
    "\n",
    "sys.stdout = stdout\n",
    "# logging.basicConfig(level=logging.INFO, format='%(asctime)s - %(levelname)s - %(message)s', stream=sys.stdout)"
   ]
  },
  {
   "cell_type": "raw",
   "id": "afea5340-27d6-4216-9b8e-8159ba8bded1",
   "metadata": {},
   "source": [
    "logger = logging.getLogger()\n",
    "\n",
    "formatter = logging.Formatter('%(asctime)s - %(name)s - %(levelname)s - %(message)s')\n",
    "\n",
    "# Setup file handler\n",
    "fhandler  = logging.FileHandler('my.log')\n",
    "fhandler.setLevel(logging.INFO)\n",
    "fhandler.setFormatter(formatter)\n",
    "\n",
    "# Configure stream handler for the cells\n",
    "chandler = logging.StreamHandler()\n",
    "chandler.setLevel(logging.INFO)\n",
    "chandler.setFormatter(formatter)\n",
    "\n",
    "# Add both handlers\n",
    "logger.addHandler(fhandler)\n",
    "logger.addHandler(chandler)\n",
    "logger.setLevel(logging.INFO)\n",
    "\n",
    "# Show the handlers\n",
    "logger.handlers\n"
   ]
  },
  {
   "cell_type": "code",
   "execution_count": 3,
   "id": "27d21b20-2218-44e5-b65e-c31327ebc737",
   "metadata": {},
   "outputs": [],
   "source": [
    "def plot_mesh(mesh):\n",
    "    pyvista.start_xvfb()\n",
    "    topology, cell_types, geometry = plot.vtk_mesh(mesh, mesh.topology.dim)\n",
    "    grid = pyvista.UnstructuredGrid(topology, cell_types, geometry)\n",
    "\n",
    "    plotter = pyvista.Plotter()\n",
    "    plotter.add_mesh(grid, show_edges=True)\n",
    "    plotter.view_xy()\n",
    "\n",
    "    return plotter"
   ]
  },
  {
   "cell_type": "code",
   "execution_count": 4,
   "id": "01c757bf-c540-4c28-ba19-6251351dc046",
   "metadata": {},
   "outputs": [],
   "source": [
    "def plot_function(mesh, u):\n",
    "    pyvista.start_xvfb()\n",
    "    topology, cell_types, geometry = plot.vtk_mesh(u.function_space)\n",
    "    grid = pyvista.UnstructuredGrid(topology, cell_types, geometry)\n",
    "\n",
    "    grid.point_data[\"u\"] = u.x.array.real\n",
    "    grid.set_active_scalars(\"u\")\n",
    "\n",
    "    plotter = pyvista.Plotter()\n",
    "    plotter.add_mesh(grid, show_edges=True)\n",
    "    plotter.view_xy()\n",
    "\n",
    "    return plotter"
   ]
  },
  {
   "cell_type": "markdown",
   "id": "7efa104d-653a-4acc-a7e9-855c7652194b",
   "metadata": {},
   "source": [
    "### Generate a hierarchy of problems\n",
    "\n",
    " - meshes\n",
    " - function spaces\n",
    " - functions to hold approximate solution\n",
    " - functions to hold the exact solution\n",
    " - functions to hold residuals (use functions to use the `dolfinx`'s ability to interpolate for restriction and prolongation)\n",
    " - functions to hold rhs (restricted and prolongated residuals)"
   ]
  },
  {
   "cell_type": "code",
   "execution_count": 5,
   "id": "39e36853-e0a2-456d-9023-66214915dac9",
   "metadata": {},
   "outputs": [],
   "source": [
    "class Problem:\n",
    "    degree = 4\n",
    "    ns_list = [32, 16, 8, 4]\n",
    "    n_L = len(ns_list)\n",
    "\n",
    "    class u_expression():\n",
    "        \"\"\"A manufactured solution for Poisson equation\"\"\"\n",
    "        def eval(self, x):\n",
    "            return np.sin(np.pi*x[0])*np.sin(np.pi*x[1])\n",
    "    \n",
    "    class f_expression():\n",
    "        def eval(self, x):\n",
    "            return 2*np.pi*np.pi*np.sin(np.pi*x[0])*np.sin(np.pi*x[1])\n",
    "\n",
    "    u_e = u_expression()\n",
    "    f_e = f_expression()\n",
    "\n",
    "    def __init__(self,):\n",
    "        self.meshes = [None for _ in range(self.n_L)]\n",
    "\n",
    "        self.elements = [None for _ in range(self.n_L)]\n",
    "        self.spaces = [None for _ in range(self.n_L)]\n",
    "\n",
    "        self.u_exact_s = [None for _ in range(self.n_L)] # exact solution\n",
    "        self.u_s = [None for _ in range(self.n_L)]       # approximate solution\n",
    "        self.f_s = [None for _ in range(self.n_L)]       # RHS of the PDE\n",
    "\n",
    "        self.residuals = [None for _ in range(self.n_L)] # residuals as `Function`\n",
    "        self.rhs = [None for _ in range(self.n_L)]       # rhs (from residuals) as `Function` (not the true RHS vectors)\n",
    "\n",
    "        self.a_forms = [None for _ in range(self.n_L)]   # bilinear forms to assemble into the operators\n",
    "        self.L_forms = [None for _ in range(self.n_L)]\n",
    "\n",
    "        self.A_mats = [None for _ in range(self.n_L)]    # operators (assembled from a_forms)\n",
    "        self.b_vecs = [None for _ in range(self.n_L)]\n",
    "\n",
    "        self.solvers = [None for _ in range(self.n_L)]\n",
    "        \n",
    "        self._setup_mesh_spaces()\n",
    "        self._setup_functions()\n",
    "        self._setup_forms()\n",
    "        self._setup_operators()\n",
    "        self._setup_solvers()\n",
    "\n",
    "    def _setup_mesh_spaces(self):\n",
    "        for level, ns in enumerate(self.ns_list):\n",
    "            self.meshes[level] = create_rectangle(MPI.COMM_WORLD, [np.array([0, 0]), np.array([1, 1])],\n",
    "                                           [ns, ns], CellType.quadrilateral)\n",
    "        \n",
    "            self.elements[level] = element(\"Lagrange\", self.meshes[level].basix_cell(), self.degree)\n",
    "            self.spaces[level] = functionspace(self.meshes[level], self.elements[level])\n",
    "\n",
    "    def _setup_functions(self,):\n",
    "        for level in range(self.n_L):\n",
    "            self.u_s[level] = Function(self.spaces[level])\n",
    "            self.u_exact_s[level] = Function(self.spaces[level])\n",
    "            self.u_exact_s[level].interpolate(self.u_e.eval)\n",
    "        \n",
    "            self.f_s[level] = Function(self.spaces[level])\n",
    "            self.f_s[level].interpolate(self.f_e.eval)\n",
    "\n",
    "            self.residuals[level] = Function(self.spaces[level])\n",
    "            self.rhs[level] = Function(self.spaces[level])\n",
    "\n",
    "    def _setup_forms(self,):\n",
    "        for level in range(self.n_L):\n",
    "            u, v = ufl.TrialFunction(self.spaces[level]), ufl.TestFunction(self.spaces[level])\n",
    "            self.a_forms[level] = form(inner(grad(u), grad(v)) * dx)\n",
    "            self.L_forms[level] = form(inner(self.f_s[level], v) * dx)\n",
    "\n",
    "    def _setup_operators(self,):\n",
    "        for level in range(self.n_L):\n",
    "            self.A_mats[level] = assemble_matrix(self.a_forms[level])\n",
    "            self.A_mats[level].assemble()\n",
    "\n",
    "            self.b_vecs[level] = assemble_vector(self.L_forms[level])\n",
    "\n",
    "    def _setup_solvers(self,):\n",
    "        \"\"\"To be used as smoothers\"\"\"\n",
    "        opts = PETSc.Options()\n",
    "        opts[\"ksp_type\"] = \"richardson\"\n",
    "        # opts[\"ksp_monitor\"] = None\n",
    "        opts[\"ksp_max_it\"] = 1\n",
    "        # opts[\"ksp_initial_guess_nonzero\"] = \"true\"\n",
    "        opts[\"pc_type\"] = \"jacobi\"\n",
    "\n",
    "        self.opts = opts\n",
    "        for level in range(self.n_L):\n",
    "            self.solvers[level] = PETSc.KSP().create(MPI.COMM_WORLD)\n",
    "            self.solvers[level].setFromOptions()\n",
    "            self.solvers[level].setOperators(self.A_mats[level])"
   ]
  },
  {
   "cell_type": "code",
   "execution_count": 6,
   "id": "2c843b99-ce9c-4c32-b00a-77621fc88821",
   "metadata": {},
   "outputs": [],
   "source": [
    "mlp = Problem()"
   ]
  },
  {
   "cell_type": "code",
   "execution_count": 7,
   "id": "b8d285d8-93c3-42f7-9111-602c191070c8",
   "metadata": {},
   "outputs": [
    {
     "data": {
      "text/plain": [
       "[32, 16, 8, 4]"
      ]
     },
     "execution_count": 7,
     "metadata": {},
     "output_type": "execute_result"
    }
   ],
   "source": [
    "mlp.ns_list"
   ]
  },
  {
   "cell_type": "code",
   "execution_count": 8,
   "id": "a02f6c9f-16e6-410b-9d28-3908f4fdafa2",
   "metadata": {},
   "outputs": [
    {
     "data": {
      "text/plain": [
       "4"
      ]
     },
     "execution_count": 8,
     "metadata": {},
     "output_type": "execute_result"
    }
   ],
   "source": [
    "mlp.n_L"
   ]
  },
  {
   "cell_type": "code",
   "execution_count": 9,
   "id": "1ad053ce-41ec-43ee-b37c-c661c13c300a",
   "metadata": {},
   "outputs": [
    {
     "data": {
      "text/plain": [
       "[<dolfinx.mesh.Mesh at 0x7c009b706d10>,\n",
       " <dolfinx.mesh.Mesh at 0x7c00e44d7b50>,\n",
       " <dolfinx.mesh.Mesh at 0x7c009b704ca0>,\n",
       " <dolfinx.mesh.Mesh at 0x7c009b704cd0>]"
      ]
     },
     "execution_count": 9,
     "metadata": {},
     "output_type": "execute_result"
    }
   ],
   "source": [
    "mlp.meshes"
   ]
  },
  {
   "cell_type": "code",
   "execution_count": 10,
   "id": "9b5a83a0-2ccb-4f33-aaad-6d66540a4f6e",
   "metadata": {},
   "outputs": [
    {
     "data": {
      "text/plain": [
       "[<petsc4py.PETSc.KSP at 0x7c009b75b010>,\n",
       " <petsc4py.PETSc.KSP at 0x7c009b75b150>,\n",
       " <petsc4py.PETSc.KSP at 0x7c009b75afc0>,\n",
       " <petsc4py.PETSc.KSP at 0x7c009b75b1a0>]"
      ]
     },
     "execution_count": 10,
     "metadata": {},
     "output_type": "execute_result"
    }
   ],
   "source": [
    "mlp.solvers"
   ]
  },
  {
   "cell_type": "code",
   "execution_count": 11,
   "id": "b0a74c34-6da7-4184-a381-dce927ec41b5",
   "metadata": {},
   "outputs": [
    {
     "data": {
      "text/plain": [
       "[<petsc4py.PETSc.Mat at 0x7c009be06a70>,\n",
       " <petsc4py.PETSc.Mat at 0x7c009c3962f0>,\n",
       " <petsc4py.PETSc.Mat at 0x7c009be57d80>,\n",
       " <petsc4py.PETSc.Mat at 0x7c00b0f9f650>]"
      ]
     },
     "execution_count": 11,
     "metadata": {},
     "output_type": "execute_result"
    }
   ],
   "source": [
    "mlp.A_mats"
   ]
  },
  {
   "cell_type": "raw",
   "id": "1118cd9a-eeb5-4675-aa4f-ca93e83a0847",
   "metadata": {},
   "source": [
    "for level, ns in enumerate(mlp.ns_list):\n",
    "\n",
    "    print(\"\\n\\t Mesh $%d\\\\times%d$\"%(ns, ns))\n",
    "    plotter = plot_mesh(mlp.meshes[level])\n",
    "    # plotter.add_title(\"$%d\\\\times%d$\"%(ns, ns))\n",
    "    plotter.show()\n",
    "    figure = plotter.screenshot(\"%dx%d.png\"%(ns, ns))\n",
    "    \n",
    "    print(\"\\n\\t Function $u$ on mesh $%d\\\\times%d$\"%(ns, ns))\n",
    "    plotter = plot_function(mlp.meshes[level], mlp.u_exact_s[level])\n",
    "    # plotter.add_title(\"u on $%d\\\\times%d$\"%(ns, ns))\n",
    "    plotter.show()\n",
    "    figure = plotter.screenshot(\"u_%dx%d.png\"%(ns, ns))\n"
   ]
  },
  {
   "cell_type": "markdown",
   "id": "8f5f2691-69c5-4f02-b55f-024371ccbcc1",
   "metadata": {},
   "source": [
    "## Two-grid method\n",
    "\n",
    " - finer level: pre-smoothing\n",
    " - restriction onto coarser level\n",
    " - smoothing on the coarse level\n",
    " - prolongation onto the finer level\n",
    " - post smooting on the fine level\n",
    "\n",
    "## Multi-grid method\n",
    " + employ two-grid recursively"
   ]
  },
  {
   "cell_type": "code",
   "execution_count": 12,
   "id": "51cbbae3-7b21-487e-9c9d-da64f165e680",
   "metadata": {},
   "outputs": [],
   "source": [
    "class MultiGrid:\n",
    "\n",
    "    first_call = True\n",
    "    cycle = 1\n",
    "    def __init__(self, mlp=None, gamma=1, nu1=1, nu2=1, padding=1.0e-14):\n",
    "        self.mlp = mlp     # Multilevel problem of type `Problem`\n",
    "        self.gamma = gamma # cycle type, 1: V-cycle, 2:W-cycle\n",
    "        self.nu1 = nu1     # number of presmoothing steps\n",
    "        self.nu2 = nu2     # number of postsmoothing steps\n",
    "        self.padding = padding\n",
    "        if self.mlp is not None:\n",
    "            self.n_L = self.mlp.n_L\n",
    "\n",
    "    def smooth(self, level, steps):\n",
    "        self.mlp.opts[\"ksp_max_it\"] = steps\n",
    "        self.mlp.solvers[level].setFromOptions()\n",
    "\n",
    "        # on the very first call to MultiGrid, the true RHS (compiled from the forms) is used\n",
    "        # otherwise the restricted/prolongated residuals are used as RHS\n",
    "        if self.first_call:\n",
    "            self.mlp.solvers[level].solve(self.mlp.b_vecs[level], self.mlp.u_s[level].vector)\n",
    "        else:\n",
    "            self.mlp.solvers[level].solve(self.mlp.rhs[level].vector, self.mlp.u_s[level].vector)\n",
    "\n",
    "    def compute_residual(self, level):\n",
    "        self.mlp.A_mats[level].mult(self.mlp.u_s[level].vector, self.mlp.residuals[level].vector)\n",
    "        self.mlp.residuals[level].x.array[:] *= -1.0\n",
    "        if self.first_call:\n",
    "            self.mlp.residuals[level].x.array[:] += self.mlp.b_vecs[level]\n",
    "            self.first_call = False\n",
    "        else:\n",
    "            self.mlp.residuals[level].x.array[:] += self.mlp.rhs[level].x.array\n",
    "    \n",
    "    def restrict(self, level):\n",
    "        \"\"\"Restrict residual from `level` to rhs at `level + 1`\"\"\"\n",
    "        nmm_interpolation_data=create_nonmatching_meshes_interpolation_data(\n",
    "                                self.mlp.rhs[level + 1].function_space.mesh._cpp_object,\n",
    "                                self.mlp.rhs[level + 1].function_space.element,\n",
    "                                self.mlp.residuals[level].function_space.mesh._cpp_object,\n",
    "                                padding=self.padding)\n",
    "        self.mlp.rhs[level + 1].interpolate(self.mlp.residuals[level],\n",
    "                                            nmm_interpolation_data=nmm_interpolation_data)\n",
    "    \n",
    "    def prolongate(self, level):\n",
    "        \"\"\"Prolongate approximate solution from `level` to rhs at `level-1`\"\"\"\n",
    "        nmm_interpolation_data=create_nonmatching_meshes_interpolation_data(\n",
    "                                self.mlp.rhs[level - 1].function_space.mesh._cpp_object,\n",
    "                                self.mlp.rhs[level - 1].function_space.element,\n",
    "                                self.mlp.u_s[level].function_space.mesh._cpp_object,\n",
    "                                padding=self.padding)\n",
    "        self.mlp.rhs[level - 1].interpolate(self.mlp.u_s[level],\n",
    "                                            nmm_interpolation_data=nmm_interpolation_data)\n",
    "\n",
    "    def multigrid(self, level, printer=print):\n",
    "        # printer(\"Starting MG cycle #%d at level #%d\"%(self.cycle, level))\n",
    "\n",
    "        if level == self.n_L - 1: # coarsest grid\n",
    "            printer(level*\"\\t\"+\"Solving in cycle #%d on the coarsest grid at level #%d\"%(self.cycle, level))\n",
    "            self.smooth(level, self.nu1)\n",
    "\n",
    "            printer(level*\"\\t\"+\"Prolongation operation in cycle #%d from level #%d to level #%d\"%(self.cycle, level, level-1))\n",
    "            self.prolongate(level)\n",
    "\n",
    "        else:\n",
    "\n",
    "            printer(level*\"\\t\"+\"Pre-smoothing in cycle #%d at level #%d\"%(self.cycle, level))\n",
    "            self.smooth(level, self.nu1)\n",
    "    \n",
    "            printer(level*\"\\t\"+\"Computing residual in cycle #%d at level #%d\"%(self.cycle, level))\n",
    "            self.compute_residual(level)\n",
    "            if self.first_call:\n",
    "                self.first_call = False\n",
    "\n",
    "            printer(level*\"\\t\"+\"Restriction operation in cycle #%d from level #%d to level #%d\"%(self.cycle, level, level+1))\n",
    "            self.restrict(level)\n",
    "\n",
    "            for _ in range(self.gamma):\n",
    "                self.multigrid(level+1)\n",
    "\n",
    "            printer(level*\"\\t\"+\"Post-smoothing in cycle #%d at level #%d\"%(self.cycle, level))\n",
    "            self.smooth(level, self.nu2)\n",
    "\n",
    "            if level > 0:\n",
    "                printer(level*\"\\t\"+\"Prolongation operation in cycle #%d from level #%d to level #%d\"%(self.cycle, level, level-1))\n",
    "                self.prolongate(level)\n",
    "\n",
    "    def solve(self, n_iterations=1):\n",
    "        for _ in range(n_iterations):\n",
    "            self.multigrid(0)\n",
    "            self.cycle += 1"
   ]
  },
  {
   "cell_type": "markdown",
   "id": "9f283ade-dc68-4492-86cd-8bdbca1d14d3",
   "metadata": {},
   "source": [
    "## V-cycle multigrid"
   ]
  },
  {
   "cell_type": "code",
   "execution_count": 13,
   "id": "03a0c649-8f4c-46f6-adc4-8e409a7da918",
   "metadata": {},
   "outputs": [],
   "source": [
    "# mlp = Problem()\n",
    "mg = MultiGrid(mlp=mlp, gamma=1)"
   ]
  },
  {
   "cell_type": "code",
   "execution_count": 14,
   "id": "87f28231-0fcb-42fe-8c99-93723204afb1",
   "metadata": {},
   "outputs": [
    {
     "data": {
      "text/plain": [
       "1"
      ]
     },
     "execution_count": 14,
     "metadata": {},
     "output_type": "execute_result"
    }
   ],
   "source": [
    "mg.gamma"
   ]
  },
  {
   "cell_type": "code",
   "execution_count": 15,
   "id": "6d354f23-2fb2-43e4-95d0-6b9a1c945f00",
   "metadata": {},
   "outputs": [
    {
     "data": {
      "text/plain": [
       "4"
      ]
     },
     "execution_count": 15,
     "metadata": {},
     "output_type": "execute_result"
    }
   ],
   "source": [
    "mg.n_L"
   ]
  },
  {
   "cell_type": "code",
   "execution_count": 16,
   "id": "bcfd8190-f1c5-4240-8d62-466d5a674fae",
   "metadata": {},
   "outputs": [
    {
     "name": "stdout",
     "output_type": "stream",
     "text": [
      "Pre-smoothing in cycle #1 at level #0\n",
      "Computing residual in cycle #1 at level #0\n",
      "Restriction operation in cycle #1 from level #0 to level #1\n",
      "\tPre-smoothing in cycle #1 at level #1\n",
      "\tComputing residual in cycle #1 at level #1\n",
      "\tRestriction operation in cycle #1 from level #1 to level #2\n",
      "\t\tPre-smoothing in cycle #1 at level #2\n",
      "\t\tComputing residual in cycle #1 at level #2\n",
      "\t\tRestriction operation in cycle #1 from level #2 to level #3\n",
      "\t\t\tSolving in cycle #1 on the coarsest grid at level #3\n",
      "\t\t\tProlongation operation in cycle #1 from level #3 to level #2\n",
      "\t\tPost-smoothing in cycle #1 at level #2\n",
      "\t\tProlongation operation in cycle #1 from level #2 to level #1\n",
      "\tPost-smoothing in cycle #1 at level #1\n",
      "\tProlongation operation in cycle #1 from level #1 to level #0\n",
      "Post-smoothing in cycle #1 at level #0\n"
     ]
    }
   ],
   "source": [
    "mg.solve(1)"
   ]
  },
  {
   "cell_type": "code",
   "execution_count": 17,
   "id": "9bb64289-d5eb-4aef-8045-ed7318507db3",
   "metadata": {},
   "outputs": [
    {
     "data": {
      "text/plain": [
       "2"
      ]
     },
     "execution_count": 17,
     "metadata": {},
     "output_type": "execute_result"
    }
   ],
   "source": [
    "mg.cycle"
   ]
  },
  {
   "cell_type": "markdown",
   "id": "950ab215-7eeb-40d3-b228-6f58c4f19124",
   "metadata": {},
   "source": [
    "## W-cycle multigrid"
   ]
  },
  {
   "cell_type": "code",
   "execution_count": 18,
   "id": "f8637326-fb69-4131-af64-a2dadcec4432",
   "metadata": {},
   "outputs": [],
   "source": [
    "mlp2 = Problem()\n",
    "mgW = MultiGrid(mlp=mlp2, gamma=2)"
   ]
  },
  {
   "cell_type": "code",
   "execution_count": 19,
   "id": "a8608752-65ef-41f0-afce-d74f662714ff",
   "metadata": {},
   "outputs": [
    {
     "data": {
      "text/plain": [
       "2"
      ]
     },
     "execution_count": 19,
     "metadata": {},
     "output_type": "execute_result"
    }
   ],
   "source": [
    "mgW.gamma"
   ]
  },
  {
   "cell_type": "code",
   "execution_count": 20,
   "id": "eb83257f-6199-46aa-a2b3-73eec3efa6ba",
   "metadata": {},
   "outputs": [
    {
     "data": {
      "text/plain": [
       "4"
      ]
     },
     "execution_count": 20,
     "metadata": {},
     "output_type": "execute_result"
    }
   ],
   "source": [
    "mgW.n_L"
   ]
  },
  {
   "cell_type": "code",
   "execution_count": 21,
   "id": "d593b4c7-434e-492d-92f9-8519d6844f03",
   "metadata": {},
   "outputs": [
    {
     "name": "stdout",
     "output_type": "stream",
     "text": [
      "Pre-smoothing in cycle #1 at level #0\n",
      "Computing residual in cycle #1 at level #0\n",
      "Restriction operation in cycle #1 from level #0 to level #1\n",
      "\tPre-smoothing in cycle #1 at level #1\n",
      "\tComputing residual in cycle #1 at level #1\n",
      "\tRestriction operation in cycle #1 from level #1 to level #2\n",
      "\t\tPre-smoothing in cycle #1 at level #2\n",
      "\t\tComputing residual in cycle #1 at level #2\n",
      "\t\tRestriction operation in cycle #1 from level #2 to level #3\n",
      "\t\t\tSolving in cycle #1 on the coarsest grid at level #3\n",
      "\t\t\tProlongation operation in cycle #1 from level #3 to level #2\n",
      "\t\t\tSolving in cycle #1 on the coarsest grid at level #3\n",
      "\t\t\tProlongation operation in cycle #1 from level #3 to level #2\n",
      "\t\tPost-smoothing in cycle #1 at level #2\n",
      "\t\tProlongation operation in cycle #1 from level #2 to level #1\n",
      "\t\tPre-smoothing in cycle #1 at level #2\n",
      "\t\tComputing residual in cycle #1 at level #2\n",
      "\t\tRestriction operation in cycle #1 from level #2 to level #3\n",
      "\t\t\tSolving in cycle #1 on the coarsest grid at level #3\n",
      "\t\t\tProlongation operation in cycle #1 from level #3 to level #2\n",
      "\t\t\tSolving in cycle #1 on the coarsest grid at level #3\n",
      "\t\t\tProlongation operation in cycle #1 from level #3 to level #2\n",
      "\t\tPost-smoothing in cycle #1 at level #2\n",
      "\t\tProlongation operation in cycle #1 from level #2 to level #1\n",
      "\tPost-smoothing in cycle #1 at level #1\n",
      "\tProlongation operation in cycle #1 from level #1 to level #0\n",
      "\tPre-smoothing in cycle #1 at level #1\n",
      "\tComputing residual in cycle #1 at level #1\n",
      "\tRestriction operation in cycle #1 from level #1 to level #2\n",
      "\t\tPre-smoothing in cycle #1 at level #2\n",
      "\t\tComputing residual in cycle #1 at level #2\n",
      "\t\tRestriction operation in cycle #1 from level #2 to level #3\n",
      "\t\t\tSolving in cycle #1 on the coarsest grid at level #3\n",
      "\t\t\tProlongation operation in cycle #1 from level #3 to level #2\n",
      "\t\t\tSolving in cycle #1 on the coarsest grid at level #3\n",
      "\t\t\tProlongation operation in cycle #1 from level #3 to level #2\n",
      "\t\tPost-smoothing in cycle #1 at level #2\n",
      "\t\tProlongation operation in cycle #1 from level #2 to level #1\n",
      "\t\tPre-smoothing in cycle #1 at level #2\n",
      "\t\tComputing residual in cycle #1 at level #2\n",
      "\t\tRestriction operation in cycle #1 from level #2 to level #3\n",
      "\t\t\tSolving in cycle #1 on the coarsest grid at level #3\n",
      "\t\t\tProlongation operation in cycle #1 from level #3 to level #2\n",
      "\t\t\tSolving in cycle #1 on the coarsest grid at level #3\n",
      "\t\t\tProlongation operation in cycle #1 from level #3 to level #2\n",
      "\t\tPost-smoothing in cycle #1 at level #2\n",
      "\t\tProlongation operation in cycle #1 from level #2 to level #1\n",
      "\tPost-smoothing in cycle #1 at level #1\n",
      "\tProlongation operation in cycle #1 from level #1 to level #0\n",
      "Post-smoothing in cycle #1 at level #0\n"
     ]
    }
   ],
   "source": [
    "mgW.solve(1)"
   ]
  },
  {
   "cell_type": "code",
   "execution_count": 22,
   "id": "1c5bdc0f-7914-4d49-ba38-039def819c3d",
   "metadata": {},
   "outputs": [
    {
     "data": {
      "text/plain": [
       "2"
      ]
     },
     "execution_count": 22,
     "metadata": {},
     "output_type": "execute_result"
    }
   ],
   "source": [
    "mgW.cycle"
   ]
  },
  {
   "cell_type": "markdown",
   "id": "d70ff821-3749-4e79-9be6-5867d4a42768",
   "metadata": {},
   "source": [
    "END"
   ]
  }
 ],
 "metadata": {
  "kernelspec": {
   "display_name": "Python 3 (ipykernel)",
   "language": "python",
   "name": "python3"
  },
  "language_info": {
   "codemirror_mode": {
    "name": "ipython",
    "version": 3
   },
   "file_extension": ".py",
   "mimetype": "text/x-python",
   "name": "python",
   "nbconvert_exporter": "python",
   "pygments_lexer": "ipython3",
   "version": "3.10.12"
  }
 },
 "nbformat": 4,
 "nbformat_minor": 5
}
